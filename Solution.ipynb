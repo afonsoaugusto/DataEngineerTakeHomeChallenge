{
 "cells": [
  {
   "cell_type": "markdown",
   "id": "d3b9d984",
   "metadata": {},
   "source": [
    "# Task Description\n",
    "\n",
    "You will be required to produce code to process and transform some sample data.\n",
    "The sample data is in the file called `data.json`.\n",
    "There are also some duplicate rows.\n",
    "\n",
    "The produced code should be able to acheive the following\n",
    "\n",
    "1. remove duplicates over the columns `id` and `created_at` (considered simultaneously)\n",
    "2. compute the rank of each user's `user_score` within each age group and output the rank in a new column called `sub_group_rank`\n",
    "3. process the column `widget_list` by\n",
    "    1. flattening the list items i.e. each item in the list is put into its own row\n",
    "    2. extracting the values in the JSON elements into their own columns called `widget_name` and `widget_amount`\n",
    "4. anonymize the column `email` and output the anonymized version in a new column `email_anon`.\n",
    "This column `email_anon` should have the following properties.\n",
    "    1. given an anonymized value the original value can be recovered\n",
    "5. create a new table that is an inverted index that gives, for each country in `location,` which `id`s are located in that country\n",
    "6. write the processed tables/data into separate `parquet` file(s).\n",
    "Exactly how the files/tables are organized is not as important as having all the data present.\n",
    "\n",
    "Your code will be evaluated for correctness, scalability and maintainability."
   ]
  },
  {
   "cell_type": "code",
   "execution_count": 4,
   "id": "a3513866",
   "metadata": {},
   "outputs": [
    {
     "name": "stdout",
     "output_type": "stream",
     "text": [
      "Collecting wheel\n",
      "  Using cached wheel-0.37.1-py2.py3-none-any.whl (35 kB)\n",
      "Requirement already satisfied: pandas in ./venv/lib/python3.9/site-packages (1.4.3)\n",
      "Requirement already satisfied: pandasql in ./venv/lib/python3.9/site-packages (0.7.3)\n",
      "Requirement already satisfied: numpy>=1.18.5; platform_machine != \"aarch64\" and platform_machine != \"arm64\" and python_version < \"3.10\" in ./venv/lib/python3.9/site-packages (from pandas) (1.23.1)\n",
      "Requirement already satisfied: python-dateutil>=2.8.1 in ./venv/lib/python3.9/site-packages (from pandas) (2.8.2)\n",
      "Requirement already satisfied: pytz>=2020.1 in ./venv/lib/python3.9/site-packages (from pandas) (2022.1)\n",
      "Requirement already satisfied: sqlalchemy in ./venv/lib/python3.9/site-packages (from pandasql) (1.4.39)\n",
      "Requirement already satisfied: six>=1.5 in ./venv/lib/python3.9/site-packages (from python-dateutil>=2.8.1->pandas) (1.16.0)\n",
      "Requirement already satisfied: greenlet!=0.4.17; python_version >= \"3\" and (platform_machine == \"aarch64\" or (platform_machine == \"ppc64le\" or (platform_machine == \"x86_64\" or (platform_machine == \"amd64\" or (platform_machine == \"AMD64\" or (platform_machine == \"win32\" or platform_machine == \"WIN32\")))))) in ./venv/lib/python3.9/site-packages (from sqlalchemy->pandasql) (1.1.2)\n",
      "Installing collected packages: wheel\n",
      "Successfully installed wheel-0.37.1\n"
     ]
    }
   ],
   "source": [
    "!pip install wheel pandas pandasql"
   ]
  },
  {
   "cell_type": "code",
   "execution_count": 5,
   "id": "3c0213cc",
   "metadata": {},
   "outputs": [],
   "source": [
    "import pandas as pd\n",
    "import pandasql as pds"
   ]
  },
  {
   "cell_type": "code",
   "execution_count": 8,
   "id": "33943169",
   "metadata": {},
   "outputs": [],
   "source": [
    "data = pd.read_json('data.json', lines=True)"
   ]
  },
  {
   "cell_type": "code",
   "execution_count": 9,
   "id": "298d7495",
   "metadata": {},
   "outputs": [
    {
     "data": {
      "text/html": [
       "<div>\n",
       "<style scoped>\n",
       "    .dataframe tbody tr th:only-of-type {\n",
       "        vertical-align: middle;\n",
       "    }\n",
       "\n",
       "    .dataframe tbody tr th {\n",
       "        vertical-align: top;\n",
       "    }\n",
       "\n",
       "    .dataframe thead th {\n",
       "        text-align: right;\n",
       "    }\n",
       "</style>\n",
       "<table border=\"1\" class=\"dataframe\">\n",
       "  <thead>\n",
       "    <tr style=\"text-align: right;\">\n",
       "      <th></th>\n",
       "      <th>id</th>\n",
       "      <th>email</th>\n",
       "      <th>age_group</th>\n",
       "      <th>user_score</th>\n",
       "      <th>revenue</th>\n",
       "      <th>widget_list</th>\n",
       "      <th>location</th>\n",
       "      <th>created_at</th>\n",
       "    </tr>\n",
       "  </thead>\n",
       "  <tbody>\n",
       "    <tr>\n",
       "      <th>0</th>\n",
       "      <td>25abf8a8-9d11-4e55-a003-246e458e9fb3</td>\n",
       "      <td>fguinness0@yolasite.com</td>\n",
       "      <td>2</td>\n",
       "      <td>0.467348</td>\n",
       "      <td>351.08</td>\n",
       "      <td>[{'name': 'Eumetopias jubatus', 'amount': 7052...</td>\n",
       "      <td>Indonesia</td>\n",
       "      <td>2020-01-31 14:50:26+00:00</td>\n",
       "    </tr>\n",
       "    <tr>\n",
       "      <th>1</th>\n",
       "      <td>6bf052c9-1307-4b26-a24d-9c47bf747c87</td>\n",
       "      <td>fdebenham1@si.edu</td>\n",
       "      <td>1</td>\n",
       "      <td>0.929755</td>\n",
       "      <td>801.00</td>\n",
       "      <td>[{'name': 'Bassariscus astutus', 'amount': 441...</td>\n",
       "      <td>Greece</td>\n",
       "      <td>2020-07-16 18:32:48+00:00</td>\n",
       "    </tr>\n",
       "    <tr>\n",
       "      <th>2</th>\n",
       "      <td>c3dc4870-463e-49d3-aba7-383cace03cd5</td>\n",
       "      <td>lleband2@hao123.com</td>\n",
       "      <td>3</td>\n",
       "      <td>0.473031</td>\n",
       "      <td>637.77</td>\n",
       "      <td>[]</td>\n",
       "      <td>China</td>\n",
       "      <td>2019-09-26 05:26:24+00:00</td>\n",
       "    </tr>\n",
       "    <tr>\n",
       "      <th>3</th>\n",
       "      <td>42c18d61-34bb-4b27-a2cf-f43728c690f7</td>\n",
       "      <td>sbartolommeo3@imgur.com</td>\n",
       "      <td>4</td>\n",
       "      <td>0.315440</td>\n",
       "      <td>588.28</td>\n",
       "      <td>[{'name': 'Manouria emys', 'amount': 72401}, {...</td>\n",
       "      <td>Finland</td>\n",
       "      <td>2020-01-17 09:26:34+00:00</td>\n",
       "    </tr>\n",
       "    <tr>\n",
       "      <th>4</th>\n",
       "      <td>e4c7b0ea-466e-4ada-afef-2f1d475be165</td>\n",
       "      <td>ebraben4@xing.com</td>\n",
       "      <td>3</td>\n",
       "      <td>0.009215</td>\n",
       "      <td>191.75</td>\n",
       "      <td>[{'name': 'Mazama americana', 'amount': 35949}...</td>\n",
       "      <td>Armenia</td>\n",
       "      <td>2020-01-29 21:55:14+00:00</td>\n",
       "    </tr>\n",
       "  </tbody>\n",
       "</table>\n",
       "</div>"
      ],
      "text/plain": [
       "                                     id                    email  age_group  \\\n",
       "0  25abf8a8-9d11-4e55-a003-246e458e9fb3  fguinness0@yolasite.com          2   \n",
       "1  6bf052c9-1307-4b26-a24d-9c47bf747c87        fdebenham1@si.edu          1   \n",
       "2  c3dc4870-463e-49d3-aba7-383cace03cd5      lleband2@hao123.com          3   \n",
       "3  42c18d61-34bb-4b27-a2cf-f43728c690f7  sbartolommeo3@imgur.com          4   \n",
       "4  e4c7b0ea-466e-4ada-afef-2f1d475be165        ebraben4@xing.com          3   \n",
       "\n",
       "   user_score  revenue                                        widget_list  \\\n",
       "0    0.467348   351.08  [{'name': 'Eumetopias jubatus', 'amount': 7052...   \n",
       "1    0.929755   801.00  [{'name': 'Bassariscus astutus', 'amount': 441...   \n",
       "2    0.473031   637.77                                                 []   \n",
       "3    0.315440   588.28  [{'name': 'Manouria emys', 'amount': 72401}, {...   \n",
       "4    0.009215   191.75  [{'name': 'Mazama americana', 'amount': 35949}...   \n",
       "\n",
       "    location                created_at  \n",
       "0  Indonesia 2020-01-31 14:50:26+00:00  \n",
       "1     Greece 2020-07-16 18:32:48+00:00  \n",
       "2      China 2019-09-26 05:26:24+00:00  \n",
       "3    Finland 2020-01-17 09:26:34+00:00  \n",
       "4    Armenia 2020-01-29 21:55:14+00:00  "
      ]
     },
     "execution_count": 9,
     "metadata": {},
     "output_type": "execute_result"
    }
   ],
   "source": [
    "data.head()"
   ]
  },
  {
   "cell_type": "code",
   "execution_count": 24,
   "id": "ab799a1c",
   "metadata": {},
   "outputs": [],
   "source": [
    "groupby = data.groupby(['id', 'created_at']).size()"
   ]
  },
  {
   "cell_type": "code",
   "execution_count": 22,
   "id": "548a4997",
   "metadata": {},
   "outputs": [
    {
     "ename": "TypeError",
     "evalue": "'function' object is not iterable",
     "output_type": "error",
     "traceback": [
      "\u001b[0;31m---------------------------------------------------------------------------\u001b[0m",
      "\u001b[0;31mTypeError\u001b[0m                                 Traceback (most recent call last)",
      "Input \u001b[0;32mIn [22]\u001b[0m, in \u001b[0;36m<cell line: 1>\u001b[0;34m()\u001b[0m\n\u001b[0;32m----> 1\u001b[0m \u001b[43mgroupby\u001b[49m\u001b[38;5;241;43m.\u001b[39;49m\u001b[43mfilter\u001b[49m\u001b[43m(\u001b[49m\u001b[38;5;28;43;01mlambda\u001b[39;49;00m\u001b[43m \u001b[49m\u001b[43mx\u001b[49m\u001b[43m:\u001b[49m\u001b[43m \u001b[49m\u001b[38;5;28;43mlen\u001b[39;49m\u001b[43m(\u001b[49m\u001b[43mx\u001b[49m\u001b[43m)\u001b[49m\u001b[43m \u001b[49m\u001b[38;5;241;43m>\u001b[39;49m\u001b[43m \u001b[49m\u001b[38;5;241;43m1\u001b[39;49m\u001b[43m)\u001b[49m\n",
      "File \u001b[0;32m~/projetos/meus-projetos/DataEngineerTakeHomeChallenge/venv/lib/python3.9/site-packages/pandas/core/generic.py:5131\u001b[0m, in \u001b[0;36mNDFrame.filter\u001b[0;34m(self, items, like, regex, axis)\u001b[0m\n\u001b[1;32m   5129\u001b[0m \u001b[38;5;28;01mif\u001b[39;00m items \u001b[38;5;129;01mis\u001b[39;00m \u001b[38;5;129;01mnot\u001b[39;00m \u001b[38;5;28;01mNone\u001b[39;00m:\n\u001b[1;32m   5130\u001b[0m     name \u001b[38;5;241m=\u001b[39m \u001b[38;5;28mself\u001b[39m\u001b[38;5;241m.\u001b[39m_get_axis_name(axis)\n\u001b[0;32m-> 5131\u001b[0m     \u001b[38;5;28;01mreturn\u001b[39;00m \u001b[38;5;28mself\u001b[39m\u001b[38;5;241m.\u001b[39mreindex(\u001b[38;5;241m*\u001b[39m\u001b[38;5;241m*\u001b[39m{name: [r \u001b[38;5;28;01mfor\u001b[39;00m r \u001b[38;5;129;01min\u001b[39;00m items \u001b[38;5;28;01mif\u001b[39;00m r \u001b[38;5;129;01min\u001b[39;00m labels]})\n\u001b[1;32m   5132\u001b[0m \u001b[38;5;28;01melif\u001b[39;00m like:\n\u001b[1;32m   5134\u001b[0m     \u001b[38;5;28;01mdef\u001b[39;00m \u001b[38;5;21mf\u001b[39m(x) \u001b[38;5;241m-\u001b[39m\u001b[38;5;241m>\u001b[39m bool_t:\n",
      "\u001b[0;31mTypeError\u001b[0m: 'function' object is not iterable"
     ]
    }
   ],
   "source": [
    "groupby.filter(lambda x: len(x) > 1) "
   ]
  },
  {
   "cell_type": "code",
   "execution_count": null,
   "id": "f7800964",
   "metadata": {},
   "outputs": [],
   "source": []
  }
 ],
 "metadata": {
  "kernelspec": {
   "display_name": "Python 3 (ipykernel)",
   "language": "python",
   "name": "python3"
  },
  "language_info": {
   "codemirror_mode": {
    "name": "ipython",
    "version": 3
   },
   "file_extension": ".py",
   "mimetype": "text/x-python",
   "name": "python",
   "nbconvert_exporter": "python",
   "pygments_lexer": "ipython3",
   "version": "3.9.5"
  }
 },
 "nbformat": 4,
 "nbformat_minor": 5
}
