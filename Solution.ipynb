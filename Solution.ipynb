{
 "cells": [
  {
   "cell_type": "markdown",
   "id": "e24b6349",
   "metadata": {},
   "source": [
    "# Task Description\n",
    "\n",
    "You will be required to produce code to process and transform some sample data.\n",
    "The sample data is in the file called `data.json`.\n",
    "There are also some duplicate rows.\n",
    "\n",
    "The produced code should be able to acheive the following\n",
    "\n",
    "1. remove duplicates over the columns `id` and `created_at` (considered simultaneously)\n",
    "2. compute the rank of each user's `user_score` within each age group and output the rank in a new column called `sub_group_rank`\n",
    "3. process the column `widget_list` by\n",
    "    1. flattening the list items i.e. each item in the list is put into its own row\n",
    "    2. extracting the values in the JSON elements into their own columns called `widget_name` and `widget_amount`\n",
    "4. anonymize the column `email` and output the anonymized version in a new column `email_anon`.\n",
    "This column `email_anon` should have the following properties.\n",
    "    1. given an anonymized value the original value can be recovered\n",
    "5. create a new table that is an inverted index that gives, for each country in `location,` which `id`s are located in that country\n",
    "6. write the processed tables/data into separate `parquet` file(s).\n",
    "Exactly how the files/tables are organized is not as important as having all the data present.\n",
    "\n",
    "Your code will be evaluated for correctness, scalability and maintainability."
   ]
  },
  {
   "cell_type": "code",
   "execution_count": null,
   "id": "be2439a2",
   "metadata": {},
   "outputs": [],
   "source": [
    "!pip install pandas fastparquet"
   ]
  },
  {
   "cell_type": "code",
   "execution_count": null,
   "id": "c1a55ae8",
   "metadata": {},
   "outputs": [],
   "source": [
    "import pandas as pd"
   ]
  },
  {
   "cell_type": "code",
   "execution_count": null,
   "id": "c6fb727a",
   "metadata": {},
   "outputs": [],
   "source": [
    "raw_data = pd.read_json('data.json', lines=True)"
   ]
  },
  {
   "cell_type": "code",
   "execution_count": null,
   "id": "665a2c4e",
   "metadata": {},
   "outputs": [],
   "source": [
    "len(raw_data)"
   ]
  },
  {
   "cell_type": "code",
   "execution_count": null,
   "id": "b81e7495",
   "metadata": {},
   "outputs": [],
   "source": [
    "raw_data.head()"
   ]
  },
  {
   "cell_type": "code",
   "execution_count": null,
   "id": "5027748f",
   "metadata": {},
   "outputs": [],
   "source": [
    "# Question 1 - remove duplicates over the columns id and created_at (considered simultaneously)\n",
    "# https://pandas.pydata.org/docs/reference/api/pandas.DataFrame.drop_duplicates.html\n",
    "# https://github.com/pandas-dev/pandas/blob/ad190575aa75962d2d0eade2de81a5fe5a2e285b/pandas/core/frame.py#L6033\n",
    "df_drop_duplicates = raw_data.drop_duplicates(subset=['id','created_at'], keep='last')"
   ]
  },
  {
   "cell_type": "code",
   "execution_count": null,
   "id": "f7ffd999",
   "metadata": {},
   "outputs": [],
   "source": [
    "len(df_drop_duplicates)"
   ]
  },
  {
   "cell_type": "code",
   "execution_count": null,
   "id": "23382855",
   "metadata": {},
   "outputs": [],
   "source": [
    "# Question 2\n",
    "# compute the rank of each user's user_score within each age group \n",
    "# and output the rank in a new column called sub_group_rank\n",
    "# https://pandas.pydata.org/docs/reference/api/pandas.DataFrame.rank.html\n",
    "# https://dfrieds.com/data-analysis/rank-method-python-pandas.html#Find-Rank-of-Homes-Sold-for-Each-Seller-by-Close-Date\n",
    "sub_group_rank = df_drop_duplicates.groupby('age_group')['user_score'].rank(method='first')\n",
    "# https://pandas.pydata.org/docs/reference/api/pandas.DataFrame.assign.html\n",
    "df_sub_group_rank = df_drop_duplicates.assign(sub_group_rank = sub_group_rank)"
   ]
  },
  {
   "cell_type": "code",
   "execution_count": null,
   "id": "b0861c8a",
   "metadata": {},
   "outputs": [],
   "source": [
    "df_sub_group_rank.groupby('age_group').size()"
   ]
  },
  {
   "cell_type": "code",
   "execution_count": null,
   "id": "b51711ce",
   "metadata": {},
   "outputs": [],
   "source": [
    "df_sub_group_rank.head()"
   ]
  },
  {
   "cell_type": "code",
   "execution_count": null,
   "id": "28c9612c",
   "metadata": {},
   "outputs": [],
   "source": [
    "# Question 3\n",
    "# process the column widget_list by\n",
    "#     flattening the list items i.e. each item in the list is put into its own row\n",
    "#     extracting the values in the JSON elements into their own columns called widget_name and widget_amount\n",
    "widget_list = df_sub_group_rank['widget_list']"
   ]
  },
  {
   "cell_type": "code",
   "execution_count": null,
   "id": "2977d568",
   "metadata": {},
   "outputs": [],
   "source": [
    "widget_list.head()"
   ]
  },
  {
   "cell_type": "code",
   "execution_count": null,
   "id": "815a17d2",
   "metadata": {},
   "outputs": [],
   "source": [
    "widget_name = widget_list.map(lambda x:[i['name'] for i in x])"
   ]
  },
  {
   "cell_type": "code",
   "execution_count": null,
   "id": "827c9f77",
   "metadata": {},
   "outputs": [],
   "source": [
    "widget_amount = widget_list.map(lambda x:[i['amount'] for i in x])"
   ]
  },
  {
   "cell_type": "code",
   "execution_count": null,
   "id": "3a8e5bd0",
   "metadata": {},
   "outputs": [],
   "source": [
    "df_widget_list = df_sub_group_rank.assign(widget_name=widget_name, widget_amount=widget_amount)"
   ]
  },
  {
   "cell_type": "code",
   "execution_count": null,
   "id": "c931baa8",
   "metadata": {},
   "outputs": [],
   "source": [
    "df_widget_list.head()"
   ]
  },
  {
   "cell_type": "code",
   "execution_count": null,
   "id": "a599c146",
   "metadata": {},
   "outputs": [],
   "source": [
    "# Question 4\n",
    "# anonymize the column email and output the anonymized version in a new column email_anon. \n",
    "# This column email_anon should have the following properties.\n",
    "#     given an anonymized value the original value can be recovered\n",
    "email = df_widget_list['email']"
   ]
  },
  {
   "cell_type": "code",
   "execution_count": null,
   "id": "28aa4263",
   "metadata": {},
   "outputs": [],
   "source": [
    "# https://docs.python.org/3/library/base64.html#module-base64\n",
    "import base64\n",
    "\n",
    "email_anon = email.map(lambda x: base64.b64encode(x.encode(\"utf-8\")))"
   ]
  },
  {
   "cell_type": "code",
   "execution_count": null,
   "id": "dfe6677f",
   "metadata": {},
   "outputs": [],
   "source": [
    "df_email_anon =  df_widget_list.assign(email_anon=email_anon)"
   ]
  },
  {
   "cell_type": "code",
   "execution_count": null,
   "id": "314e275b",
   "metadata": {},
   "outputs": [],
   "source": [
    "df_email_anon.head()"
   ]
  },
  {
   "cell_type": "code",
   "execution_count": null,
   "id": "361a14b5",
   "metadata": {},
   "outputs": [],
   "source": [
    "# Question 5\n",
    "# create a new table that is an inverted index that gives, for each country in location, which ids are located in that country\n",
    "inverted_index = df_email_anon.groupby('location')['id'].transform(lambda x: ','.join(x))\n",
    "df_inverted_index = df_email_anon.assign(inverted_index=inverted_index)[['location','inverted_index']].drop_duplicates()"
   ]
  },
  {
   "cell_type": "code",
   "execution_count": null,
   "id": "d7939eee",
   "metadata": {},
   "outputs": [],
   "source": [
    "len(df_inverted_index)"
   ]
  },
  {
   "cell_type": "code",
   "execution_count": null,
   "id": "81e3ec8f",
   "metadata": {},
   "outputs": [],
   "source": [
    "df_inverted_index.head()"
   ]
  },
  {
   "cell_type": "code",
   "execution_count": null,
   "id": "82d19062",
   "metadata": {},
   "outputs": [],
   "source": [
    "# Question 6\n",
    "# write the processed tables/data into separate parquet file(s). \n",
    "# Exactly how the files/tables are organized is not as important as having all the data present.\n",
    "raw_data.to_parquet('raw_data.parquet')\n",
    "df_email_anon.to_parquet('processed_data.parquet')\n",
    "df_inverted_index.to_parquet('inverted_index_data.parquet')"
   ]
  },
  {
   "cell_type": "code",
   "execution_count": null,
   "id": "7778f9cf",
   "metadata": {},
   "outputs": [],
   "source": []
  }
 ],
 "metadata": {
  "kernelspec": {
   "display_name": "Python 3 (ipykernel)",
   "language": "python",
   "name": "python3"
  },
  "language_info": {
   "codemirror_mode": {
    "name": "ipython",
    "version": 3
   },
   "file_extension": ".py",
   "mimetype": "text/x-python",
   "name": "python",
   "nbconvert_exporter": "python",
   "pygments_lexer": "ipython3",
   "version": "3.9.5"
  }
 },
 "nbformat": 4,
 "nbformat_minor": 5
}
